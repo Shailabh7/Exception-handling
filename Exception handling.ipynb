{
 "cells": [
  {
   "cell_type": "markdown",
   "metadata": {},
   "source": [
    "# Exception handling assignment"
   ]
  },
  {
   "cell_type": "code",
   "execution_count": 13,
   "metadata": {},
   "outputs": [],
   "source": [
    "#1\n",
    "def divbyzero(a):\n",
    "    try:\n",
    "        a/0\n",
    "        print('Finite result')\n",
    "        \n",
    "           \n",
    "    except:\n",
    "        print('division error')\n",
    "                \n",
    "        \n",
    "            \n",
    "    \n",
    "    \n",
    "        \n",
    "            \n",
    "        \n",
    "            \n",
    "    \n",
    "        \n",
    "        \n",
    "            \n",
    "       \n",
    "    \n",
    "           \n",
    "            \n",
    "            \n",
    "    "
   ]
  },
  {
   "cell_type": "code",
   "execution_count": 14,
   "metadata": {},
   "outputs": [
    {
     "name": "stdout",
     "output_type": "stream",
     "text": [
      "division error\n"
     ]
    }
   ],
   "source": [
    "divbyzero(5)"
   ]
  },
  {
   "cell_type": "code",
   "execution_count": 15,
   "metadata": {},
   "outputs": [],
   "source": [
    "#2\n",
    "subjects=[\"Americans \",\"Indians\"]\n",
    "verbs=[\"play\",\"watch\"]\n",
    "objects=[\"Baseball\",\"Cricket\"]"
   ]
  },
  {
   "cell_type": "code",
   "execution_count": 48,
   "metadata": {},
   "outputs": [],
   "source": [
    "e = [(a+' '+ b +' '+ c + ' ') for a in subjects for b in verbs for c in objects]"
   ]
  },
  {
   "cell_type": "code",
   "execution_count": 49,
   "metadata": {},
   "outputs": [
    {
     "name": "stdout",
     "output_type": "stream",
     "text": [
      "Output:\n",
      "Americans  play Baseball \n",
      "Americans  play Cricket \n",
      "Americans  watch Baseball \n",
      "Americans  watch Cricket \n",
      "Indians play Baseball \n",
      "Indians play Cricket \n",
      "Indians watch Baseball \n",
      "Indians watch Cricket \n"
     ]
    }
   ],
   "source": [
    "print('Output:')\n",
    "for combined in e:\n",
    "    print(combined)"
   ]
  },
  {
   "cell_type": "code",
   "execution_count": null,
   "metadata": {},
   "outputs": [],
   "source": []
  }
 ],
 "metadata": {
  "kernelspec": {
   "display_name": "Python 3",
   "language": "python",
   "name": "python3"
  },
  "language_info": {
   "codemirror_mode": {
    "name": "ipython",
    "version": 3
   },
   "file_extension": ".py",
   "mimetype": "text/x-python",
   "name": "python",
   "nbconvert_exporter": "python",
   "pygments_lexer": "ipython3",
   "version": "3.7.6"
  }
 },
 "nbformat": 4,
 "nbformat_minor": 4
}
